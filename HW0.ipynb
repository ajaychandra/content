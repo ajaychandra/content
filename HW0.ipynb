{
<<<<<<< HEAD
 "cells": [
  {
   "cell_type": "markdown",
   "metadata": {},
   "source": [
    "# Homework 0\n",
    "\n",
    "### Due Tuesday, September 10 (but no submission is required)\n",
    "\n",
    "---\n",
    "\n",
    "Welcome to CS109 / STAT121 / AC209 / E-109 (http://cs109.org/).  In this class, we will be using a variety of tools that will require some initial configuration. To ensure everything goes smoothly moving forward, we will setup the majority of those tools in this homework. While some of this will likely be dull, doing it now will enable us to do more exciting work in the weeks that follow without getting bogged down in further software configuration. This homework will not be graded, however it is essential that you complete it timely since it will enable us to set up your accounts. You do not have to hand anything in, with the exception of filling out the online survey. \n",
    "\n",
    "## Class Survey, Piazza, and Introduction\n",
    "\n",
    "**Class Survey**\n",
    "\n",
    "Please complete the mandatory course survey located [here](https://docs.google.com/spreadsheet/viewform?formkey=dFg1ZFJwLWJ6ZWhWR1JJb0tES3lGMEE6MA#gid=0). It should only take a few moments of your time. Once you fill in the survey we will sign you up to the course forum on Piazza and the dropbox system that you will use to hand in the homework. It is imperative that you fill out the survey on time as we use the provided information to sign you up for these services. \n",
    "\n",
    "**Piazza**\n",
    "\n",
    "Go to [Piazza](https://piazza.com/harvard/fall2013/cs109/home) and sign up for the class using your Harvard e-mail address. \n",
    "\n",
    "You will use Piazza as a forum for discussion, to find team members, to arrange appointments, and to ask questions. Piazza should be your primary form of communication with the staff. Use the staff e-mail (staff@cs109.org) only for individual requests, e.g., to excuse yourself from a mandatory guest lecture. All readings, homeworks, and project descriptions will be announced on Piazza first. \n",
    "\n",
    "**Introduction**\n",
    "\n",
    "Once you are signed up to the Piazza course forum, introduce yourself to your classmates and course staff with a follow-up post in the introduction thread. Include your name/nickname, your affiliation, why you are taking this course, and tell us something interesting about yourself (e.g., an industry job, an unusual hobby, past travels, or a cool project you did, etc.). Also tell us whether you have experience with data science. \n",
    "\n",
    "## Programming expectations\n",
    "\n",
    "All the assignments and labs for this class will use Python and, for the most part, the browser-based IPython notebook format you are currently viewing. Knowledge of Python is not a prerequisite for this course, **provided you are comfortable learning on your own as needed**. While we have strived to make the programming component of this course straightforward, we will not devote much time to teaching prorgramming or Python syntax. Basically, you should feel comfortable with:\n",
    "\n",
    "* How to look up Python syntax on Google and StackOverflow.\n",
    "* Basic programming concepts like functions, loops, arrays, dictionaries, strings, and if statements.\n",
    "* How to learn new libraries by reading documentation.\n",
    "* Asking questions on StackOverflow or Piazza.\n",
    "\n",
    "There are many online tutorials to introduce you to scientific python programming. [Here is one](https://github.com/jrjohansson/scientific-python-lectures) that is very nice. Lectures 1-4 are most relevant to this class.\n",
    "\n",
    "## Getting Python\n",
    "\n",
    "You will be using Python throughout the course, including many popular 3rd party Python libraries for scientific computing. [Anaconda](http://continuum.io/downloads) is an easy-to-install bundle of Python and most of these libraries. We recommend that you use Anaconda for this course.\n",
    "\n",
    "Please visit [this page](https://github.com/cs109/content/wiki/Installing-Python) and follow the instructions to set up Python\n",
    "\n",
    "<hline>\n",
    "\n",
    "## Hello, Python\n",
    "\n",
    "The IPython notebook is an application to build interactive computational notebooks. You'll be using them to complete labs and homework. Once you've set up Python, please <a href=https://raw.github.com/cs109/content/master/HW0.ipynb download=\"HW0.ipynb\">download this page</a>, and open it with IPython by typing\n",
    "\n",
    "```\n",
    "ipython notebook <name_of_downloaded_file>\n",
    "```\n",
    "\n",
    "For the rest of the assignment, use your local copy of this page, running on IPython.\n",
    "\n",
    "Notebooks are composed of many \"cells\", which can contain text (like this one), or code (like the one below). Double click on the cell below, and evaluate it by clicking the \"play\" button above, for by hitting shift + enter"
   ]
  },
  {
   "cell_type": "code",
   "execution_count": 2,
   "metadata": {
    "collapsed": false
   },
   "outputs": [
    {
     "name": "stdout",
     "output_type": "stream",
     "text": [
      "Item is  10\n",
      "Item is  20\n",
      "Item is  30\n",
      "Item is  40\n",
      "Item is  50\n"
     ]
    }
   ],
   "source": [
    "x = [10, 20, 30, 40, 50]\n",
    "for item in x:\n",
    "    print \"Item is \", item"
   ]
  },
  {
   "cell_type": "markdown",
   "metadata": {},
   "source": [
    "## Python Libraries\n",
    "\n",
    "We will be using a several different libraries throughout this course. If you've successfully completed the [installation instructions](https://github.com/cs109/content/wiki/Installing-Python), all of the following statements should run."
   ]
  },
  {
   "cell_type": "code",
   "execution_count": 3,
   "metadata": {
    "collapsed": false
   },
   "outputs": [
    {
     "name": "stdout",
     "output_type": "stream",
     "text": [
      "IPython version:       4.0.0 (need at least 1.0)\n",
      "Numpy version:         1.9.2 (need at least 1.7.1)\n",
      "SciPy version:        0.15.1 (need at least 0.12.0)\n",
      "Pandas version:       0.16.2 (need at least 0.11.0)\n",
      "Mapltolib version:     1.4.3 (need at least 1.2.1)\n",
      "Scikit-Learn version: 0.16.1 (need at least 0.13.1)\n",
      "requests version:      2.8.1 (need at least 1.2.3)\n",
      "NetworkX version:      1.9.1 (need at least 1.7)\n",
      "BeautifulSoup version: 3.2.1 (need at least 3.2)\n",
      "Mr Job version:        0.4.5 (need at least 0.4)\n",
      "Pattern version:         2.6 (need at least 2.6)\n"
     ]
    }
   ],
   "source": [
    "#IPython is what you are using now to run the notebook\n",
    "import IPython\n",
    "print \"IPython version:      %6.6s (need at least 1.0)\" % IPython.__version__\n",
    "\n",
    "# Numpy is a library for working with Arrays\n",
    "import numpy as np\n",
    "print \"Numpy version:        %6.6s (need at least 1.7.1)\" % np.__version__\n",
    "\n",
    "# SciPy implements many different numerical algorithms\n",
    "import scipy as sp\n",
    "print \"SciPy version:        %6.6s (need at least 0.12.0)\" % sp.__version__\n",
    "\n",
    "# Pandas makes working with data tables easier\n",
    "import pandas as pd\n",
    "print \"Pandas version:       %6.6s (need at least 0.11.0)\" % pd.__version__\n",
    "\n",
    "# Module for plotting\n",
    "import matplotlib\n",
    "print \"Mapltolib version:    %6.6s (need at least 1.2.1)\" % matplotlib.__version__\n",
    "\n",
    "# SciKit Learn implements several Machine Learning algorithms\n",
    "import sklearn\n",
    "print \"Scikit-Learn version: %6.6s (need at least 0.13.1)\" % sklearn.__version__\n",
    "\n",
    "# Requests is a library for getting data from the Web\n",
    "import requests\n",
    "print \"requests version:     %6.6s (need at least 1.2.3)\" % requests.__version__\n",
    "\n",
    "# Networkx is a library for working with networks\n",
    "import networkx as nx\n",
    "print \"NetworkX version:     %6.6s (need at least 1.7)\" % nx.__version__\n",
    "\n",
    "#BeautifulSoup is a library to parse HTML and XML documents\n",
    "import BeautifulSoup\n",
    "print \"BeautifulSoup version:%6.6s (need at least 3.2)\" % BeautifulSoup.__version__\n",
    "\n",
    "#MrJob is a library to run map reduce jobs on Amazon's computers\n",
    "import mrjob\n",
    "print \"Mr Job version:       %6.6s (need at least 0.4)\" % mrjob.__version__\n",
    "\n",
    "#Pattern has lots of tools for working with data from the internet\n",
    "import pattern\n",
    "print \"Pattern version:      %6.6s (need at least 2.6)\" % pattern.__version__"
   ]
  },
  {
   "cell_type": "markdown",
   "metadata": {},
   "source": [
    "If any of these libraries are missing or out of date, you will need to [install them](https://github.com/cs109/content/wiki/Installing-Python#installing-additional-libraries) and restart IPython"
   ]
  },
  {
   "cell_type": "markdown",
   "metadata": {},
   "source": [
    "## Hello matplotlib"
   ]
  },
  {
   "cell_type": "markdown",
   "metadata": {},
   "source": [
    "The notebook integrates nicely with Matplotlib, the primary plotting package for python. This should embed a figure of a sine wave:"
   ]
  },
  {
   "cell_type": "code",
   "execution_count": 4,
   "metadata": {
    "collapsed": false
   },
   "outputs": [
    {
     "data": {
      "text/plain": [
       "<matplotlib.text.Text at 0x10888efd0>"
      ]
     },
     "execution_count": 4,
     "metadata": {},
     "output_type": "execute_result"
    },
    {
     "data": {
      "image/png": "iVBORw0KGgoAAAANSUhEUgAAAYwAAAEPCAYAAABRHfM8AAAABHNCSVQICAgIfAhkiAAAAAlwSFlz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\nhBEREVX+BrCssib1fQb9AAAAAElFTkSuQmCC\n",
      "text/plain": [
       "<matplotlib.figure.Figure at 0x107ce8690>"
      ]
     },
     "metadata": {},
     "output_type": "display_data"
    }
   ],
   "source": [
    "#this line prepares IPython for working with matplotlib\n",
    "%matplotlib inline  \n",
    "\n",
    "# this actually imports matplotlib\n",
    "import matplotlib.pyplot as plt  \n",
    "\n",
    "x = np.linspace(0, 10, 30)  #array of 30 points from 0 to 10\n",
    "y = np.sin(x)\n",
    "z = y + np.random.normal(size=30) * .2\n",
    "plt.plot(x, y, 'ro-', label='A sine wave')\n",
    "plt.plot(x, z, 'b-', label='Noisy sine')\n",
    "plt.legend(loc = 'lower right')\n",
    "plt.xlabel(\"X axis\")\n",
    "plt.ylabel(\"Y axis\")           "
   ]
  },
  {
   "cell_type": "markdown",
   "metadata": {},
   "source": [
    "If that last cell complained about the `%matplotlib` line, you need to update IPython to v1.0, and restart the notebook. See the [installation page](https://github.com/cs109/content/wiki/Installing-Python)"
   ]
  },
  {
   "cell_type": "markdown",
   "metadata": {},
   "source": [
    "## Hello Numpy\n",
    "\n",
    "The Numpy array processing library is the basis of nearly all numerical computing in Python. Here's a 30 second crash course. For more details, consult Chapter 4 of Python for Data Analysis, or the [Numpy User's Guide](http://docs.scipy.org/doc/numpy-dev/user/index.html)"
   ]
  },
  {
   "cell_type": "code",
   "execution_count": 5,
   "metadata": {
    "collapsed": false
   },
   "outputs": [
    {
     "name": "stdout",
     "output_type": "stream",
     "text": [
      "Make a 3 row x 4 column array of random numbers\n",
      "[[ 0.10172954  0.31054639  0.00433812  0.99735503]\n",
      " [ 0.77792304  0.31132935  0.59006182  0.80777235]\n",
      " [ 0.55784404  0.50571878  0.61549782  0.32809362]]\n",
      "\n",
      "Add 1 to every element\n",
      "[[ 1.10172954  1.31054639  1.00433812  1.99735503]\n",
      " [ 1.77792304  1.31132935  1.59006182  1.80777235]\n",
      " [ 1.55784404  1.50571878  1.61549782  1.32809362]]\n",
      "\n",
      "Get the element at row 1, column 2\n",
      "1.59006181861\n",
      "\n",
      "Get the first row\n",
      "[ 1.10172954  1.31054639  1.00433812  1.99735503]\n",
      "\n",
      "Get every 2nd column of the first row\n",
      "[ 1.10172954  1.00433812]\n",
      "\n"
     ]
    }
   ],
   "source": [
    "print \"Make a 3 row x 4 column array of random numbers\"\n",
    "x = np.random.random((3, 4))\n",
    "print x\n",
    "print\n",
    "\n",
    "print \"Add 1 to every element\"\n",
    "x = x + 1\n",
    "print x\n",
    "print\n",
    "\n",
    "print \"Get the element at row 1, column 2\"\n",
    "print x[1, 2]\n",
    "print\n",
    "\n",
    "# The colon syntax is called \"slicing\" the array. \n",
    "print \"Get the first row\"\n",
    "print x[0, :]\n",
    "print\n",
    "\n",
    "print \"Get every 2nd column of the first row\"\n",
    "print x[0, ::2]\n",
    "print"
   ]
  },
  {
   "cell_type": "markdown",
   "metadata": {},
   "source": [
    "Print the maximum, minimum, and mean of the array. This does **not** require writing a loop. In the code cell below, type `x.m<TAB>`, to find built-in operations for common array statistics like this"
   ]
  },
  {
   "cell_type": "code",
   "execution_count": 6,
   "metadata": {
    "collapsed": false
   },
   "outputs": [
    {
     "name": "stdout",
     "output_type": "stream",
     "text": [
      "1.49235082645\n",
      "1.99735503156\n",
      "1.00433812354\n"
     ]
    }
   ],
   "source": [
    "#your code here\n",
    "print np.mean(x)\n",
    "print np.max(x)\n",
    "print np.min(x)"
   ]
  },
  {
   "cell_type": "markdown",
   "metadata": {},
   "source": [
    "Call the `x.max` function again, but use the `axis` keyword to print the maximum of each row in x."
   ]
  },
  {
   "cell_type": "code",
   "execution_count": 7,
   "metadata": {
    "collapsed": false
   },
   "outputs": [
    {
     "data": {
      "text/plain": [
       "array([ 1.99735503,  1.80777235,  1.61549782])"
      ]
     },
     "execution_count": 7,
     "metadata": {},
     "output_type": "execute_result"
    }
   ],
   "source": [
    "#your code here\n",
    "np.max(x,axis=1)"
   ]
  },
  {
   "cell_type": "markdown",
   "metadata": {},
   "source": [
    "Here's a way to quickly simulate 500 coin \"fair\" coin tosses (where the probabily of getting Heads is 50%, or 0.5)"
   ]
  },
  {
   "cell_type": "code",
   "execution_count": 8,
   "metadata": {
    "collapsed": false
   },
   "outputs": [
    {
     "name": "stdout",
     "output_type": "stream",
     "text": [
      "number of heads: 246\n"
     ]
    }
   ],
   "source": [
    "x = np.random.binomial(500, .5)\n",
    "print \"number of heads:\", x"
   ]
  },
  {
   "cell_type": "markdown",
   "metadata": {},
   "source": [
    "Repeat this simulation 500 times, and use the [plt.hist() function](http://matplotlib.org/api/pyplot_api.html#matplotlib.pyplot.hist) to plot a histogram of the number of Heads (1s) in each simulation"
   ]
  },
  {
   "cell_type": "code",
   "execution_count": 9,
   "metadata": {
    "collapsed": false
   },
   "outputs": [
    {
     "data": {
      "text/plain": [
       "(array([   4.,    7.,   32.,   62.,  128.,  121.,   80.,   49.,   13.,    4.]),\n",
       " array([ 214. ,  220.9,  227.8,  234.7,  241.6,  248.5,  255.4,  262.3,\n",
       "         269.2,  276.1,  283. ]),\n",
       " <a list of 10 Patch objects>)"
      ]
     },
     "execution_count": 9,
     "metadata": {},
     "output_type": "execute_result"
    },
    {
     "data": {
      "image/png": "iVBORw0KGgoAAAANSUhEUgAAAXsAAAEACAYAAABS29YJAAAABHNCSVQICAgIfAhkiAAAAAlwSFlz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\nAQ3JoYUbzTXZAAAAAElFTkSuQmCC\n",
      "text/plain": [
       "<matplotlib.figure.Figure at 0x104ace410>"
      ]
     },
     "metadata": {},
     "output_type": "display_data"
    }
   ],
   "source": [
    "def experiment(m,n):\n",
    "    return [np.random.binomial(m,.5) for i in range(1,n+1)]\n",
    "matplotlib.pyplot.hist(experiment(500,500))\n",
    "\n"
   ]
  },
  {
   "cell_type": "markdown",
   "metadata": {},
   "source": [
    "## The Monty Hall Problem\n",
    "\n",
    "\n",
    "Here's a fun and perhaps surprising statistical riddle, and a good way to get some practice writing python functions\n",
    "\n",
    "In a gameshow, contestants try to guess which of 3 closed doors contain a cash prize (goats are behind the other two doors). Of course, the odds of choosing the correct door are 1 in 3. As a twist, the host of the show occasionally opens a door after a contestant makes his or her choice. This door is always one of the two the contestant did not pick, and is also always one of the goat doors (note that it is always possible to do this, since there are two goat doors). At this point, the contestant has the option of keeping his or her original choice, or swtiching to the other unopened door. The question is: is there any benefit to switching doors? The answer surprises many people who haven't heard the question before.\n",
    "\n",
    "We can answer the problem by running simulations in Python. We'll do it in several parts.\n",
    "\n",
    "First, write a function called `simulate_prizedoor`. This function will simulate the location of the prize in many games -- see the detailed specification below:"
   ]
  },
  {
   "cell_type": "code",
   "execution_count": 10,
   "metadata": {
    "collapsed": false
   },
   "outputs": [],
   "source": [
    "\"\"\"\n",
    "Function\n",
    "--------\n",
    "simulate_prizedoor\n",
    "\n",
    "Generate a random array of 0s, 1s, and 2s, representing\n",
    "hiding a prize between door 0, door 1, and door 2\n",
    "\n",
    "Parameters\n",
    "----------\n",
    "nsim : int\n",
    "    The number of simulations to run\n",
    "\n",
    "Returns\n",
    "-------\n",
    "sims : array\n",
    "    Random array of 0s, 1s, and 2s\n",
    "\n",
    "Example\n",
    "-------\n",
    ">>> print simulate_prizedoor(3)\n",
    "array([0, 0, 2])\n",
    "\"\"\"\n",
    "def simulate_prizedoor(nsim):\n",
    "    return [np.random.random_integers(0,3) for i in range(1,nsim+1)]\n",
    "#your code here"
   ]
  },
  {
   "cell_type": "markdown",
   "metadata": {},
   "source": [
    "Next, write a function that simulates the contestant's guesses for `nsim` simulations. Call this function `simulate_guess`. The specs:"
   ]
  },
  {
   "cell_type": "code",
   "execution_count": 13,
   "metadata": {
    "collapsed": false
   },
   "outputs": [
    {
     "name": "stdout",
     "output_type": "stream",
     "text": [
      "[0, 1, 2, 2, 1]\n"
     ]
    }
   ],
   "source": [
    "\"\"\"\n",
    "Function\n",
    "--------\n",
    "simulate_guess\n",
    "\n",
    "Return any strategy for guessing which door a prize is behind. This\n",
    "could be a random strategy, one that always guesses 2, whatever.\n",
    "\n",
    "Parameters\n",
    "----------\n",
    "nsim : int\n",
    "    The number of simulations to generate guesses for\n",
    "\n",
    "Returns\n",
    "-------\n",
    "guesses : array\n",
    "    An array of guesses. Each guess is a 0, 1, or 2\n",
    "\n",
    "Example\n",
    "-------\n",
    ">>> print simulate_guess(5)\n",
    "array([0, 0, 0, 0, 0])\n",
    "\"\"\"\n",
    "#your code here\n",
    "def simulate_guess(nsim):\n",
    "    return [np.random.random_integers(0,3) for i in range(1,nsim+1)]\n",
    "print simulate_guess(5)"
   ]
  },
  {
   "cell_type": "markdown",
   "metadata": {},
   "source": [
    "Next, write a function, `goat_door`, to simulate randomly revealing one of the goat doors that a contestant didn't pick."
   ]
  },
  {
   "cell_type": "code",
   "execution_count": 19,
   "metadata": {
    "collapsed": false
   },
   "outputs": [
    {
     "name": "stdout",
     "output_type": "stream",
     "text": [
      "[1, 2, 1]\n"
     ]
    }
   ],
   "source": [
    "\"\"\"\n",
    "Function\n",
    "--------\n",
    "goat_door\n",
    "\n",
    "Simulate the opening of a \"goat door\" that doesn't contain the prize,\n",
    "and is different from the contestants guess\n",
    "\n",
    "Parameters\n",
    "----------\n",
    "prizedoors : array\n",
    "    The door that the prize is behind in each simulation\n",
    "guesses : array\n",
    "    THe door that the contestant guessed in each simulation\n",
    "\n",
    "Returns\n",
    "-------\n",
    "goats : array\n",
    "    The goat door that is opened for each simulation. Each item is 0, 1, or 2, and is different\n",
    "    from both prizedoors and guesses\n",
    "\n",
    "Examples\n",
    "--------\n",
    ">>> print goat_door(np.array([0, 1, 2]), np.array([1, 1, 1]))\n",
    ">>> array([2, 2, 0])\n",
    "\"\"\"\n",
    "def goat_door(prizedoors, guesses):\n",
    "    while True:\n",
    "        goats = [np.random.random_integers(0,3) for i in range(1,len(prizedoors)+1)]\n",
    "        if any(goats != prizedoors) and any(goats != guesses):\n",
    "             return goats\n",
    "\n",
    "print goat_door(np.array([0, 1, 2]), np.array([1, 1, 1]))"
   ]
  },
  {
   "cell_type": "markdown",
   "metadata": {},
   "source": [
    "Write a function, `switch_guess`, that represents the strategy of always switching a guess after the goat door is opened."
   ]
  },
  {
   "cell_type": "code",
   "execution_count": 12,
   "metadata": {
    "collapsed": false
   },
   "outputs": [],
   "source": [
    "\"\"\"\n",
    "Function\n",
    "--------\n",
    "switch_guess\n",
    "\n",
    "The strategy that always switches a guess after the goat door is opened\n",
    "\n",
    "Parameters\n",
    "----------\n",
    "guesses : array\n",
    "     Array of original guesses, for each simulation\n",
    "goatdoors : array\n",
    "     Array of revealed goat doors for each simulation\n",
    "\n",
    "Returns\n",
    "-------\n",
    "The new door after switching. Should be different from both guesses and goatdoors\n",
    "\n",
    "Examples\n",
    "--------\n",
    ">>> print switch_guess(np.array([0, 1, 2]), np.array([1, 2, 1]))\n",
    ">>> array([2, 0, 0])\n",
    "\"\"\"\n",
    "#your code here\n"
   ]
  },
  {
   "cell_type": "markdown",
   "metadata": {},
   "source": [
    "Last function: write a `win_percentage` function that takes an array of `guesses` and `prizedoors`, and returns the percent of correct guesses"
   ]
  },
  {
   "cell_type": "code",
   "execution_count": 13,
   "metadata": {
    "collapsed": false
   },
   "outputs": [],
   "source": [
    "\"\"\"\n",
    "Function\n",
    "--------\n",
    "win_percentage\n",
    "\n",
    "Calculate the percent of times that a simulation of guesses is correct\n",
    "\n",
    "Parameters\n",
    "-----------\n",
    "guesses : array\n",
    "    Guesses for each simulation\n",
    "prizedoors : array\n",
    "    Location of prize for each simulation\n",
    "\n",
    "Returns\n",
    "--------\n",
    "percentage : number between 0 and 100\n",
    "    The win percentage\n",
    "\n",
    "Examples\n",
    "---------\n",
    ">>> print win_percentage(np.array([0, 1, 2]), np.array([0, 0, 0]))\n",
    "33.333\n",
    "\"\"\"\n",
    "#your code here\n"
   ]
  },
  {
   "cell_type": "markdown",
   "metadata": {},
   "source": [
    "Now, put it together. Simulate 10000 games where contestant keeps his original guess, and 10000 games where the contestant switches his door after a  goat door is revealed. Compute the percentage of time the contestant wins under either strategy. Is one strategy better than the other?"
   ]
  },
  {
   "cell_type": "code",
   "execution_count": 14,
   "metadata": {
    "collapsed": false
   },
   "outputs": [],
   "source": [
    "#your code here\n"
   ]
  },
  {
   "cell_type": "markdown",
   "metadata": {},
   "source": [
    "Many people find this answer counter-intuitive (famously, PhD mathematicians have incorrectly claimed the result must be wrong. Clearly, none of them knew Python). \n",
    "\n",
    "One of the best ways to build intuition about why opening a Goat door affects the odds is to re-run the experiment with 100 doors and one prize. If the game show host opens 98 goat doors after you make your initial selection, would you want to keep your first pick or switch? Can you generalize your simulation code to handle the case of `n` doors?"
   ]
  }
 ],
 "metadata": {
  "kernelspec": {
   "display_name": "Python 2",
   "language": "python",
   "name": "python2"
  },
  "language_info": {
   "codemirror_mode": {
    "name": "ipython",
    "version": 2
   },
   "file_extension": ".py",
   "mimetype": "text/x-python",
   "name": "python",
   "nbconvert_exporter": "python",
   "pygments_lexer": "ipython2",
   "version": "2.7.10"
  }
 },
 "nbformat": 4,
 "nbformat_minor": 0
}
=======
  "metadata": {
    "name": ""
  }, 
  "nbformat": 3, 
  "nbformat_minor": 0, 
  "worksheets": [
    {
      "cells": [
        {
          "source": [
            "# Homework 0\n", 
            "\n", 
            "### Due Tuesday, September 10 (but no submission is required)\n", 
            "\n", 
            "---\n", 
            "\n", 
            "Welcome to CS109 / STAT121 / AC209 / E-109 (http://cs109.org/).  In this class, we will be using a variety of tools that will require some initial configuration. To ensure everything goes smoothly moving forward, we will setup the majority of those tools in this homework. While some of this will likely be dull, doing it now will enable us to do more exciting work in the weeks that follow without getting bogged down in further software configuration. This homework will not be graded, however it is essential that you complete it timely since it will enable us to set up your accounts. You do not have to hand anything in, with the exception of filling out the online survey. \n", 
            "\n", 
            "## Class Survey, Piazza, and Introduction\n", 
            "\n", 
            "**Class Survey**\n", 
            "\n", 
            "Please complete the mandatory course survey located [here](https://docs.google.com/spreadsheet/viewform?formkey=dFg1ZFJwLWJ6ZWhWR1JJb0tES3lGMEE6MA#gid=0). It should only take a few moments of your time. Once you fill in the survey we will sign you up to the course forum on Piazza and the dropbox system that you will use to hand in the homework. It is imperative that you fill out the survey on time as we use the provided information to sign you up for these services. \n", 
            "\n", 
            "**Piazza**\n", 
            "\n", 
            "Go to [Piazza](https://piazza.com/harvard/fall2013/cs109/home) and sign up for the class using your Harvard e-mail address. \n", 
            "\n", 
            "You will use Piazza as a forum for discussion, to find team members, to arrange appointments, and to ask questions. Piazza should be your primary form of communication with the staff. Use the staff e-mail (staff@cs109.org) only for individual requests, e.g., to excuse yourself from a mandatory guest lecture. All readings, homeworks, and project descriptions will be announced on Piazza first. \n", 
            "\n", 
            "**Introduction**\n", 
            "\n", 
            "Once you are signed up to the Piazza course forum, introduce yourself to your classmates and course staff with a follow-up post in the introduction thread. Include your name/nickname, your affiliation, why you are taking this course, and tell us something interesting about yourself (e.g., an industry job, an unusual hobby, past travels, or a cool project you did, etc.). Also tell us whether you have experience with data science. \n", 
            "\n", 
            "## Programming expectations\n", 
            "\n", 
            "All the assignments and labs for this class will use Python and, for the most part, the browser-based IPython notebook format you are currently viewing. Knowledge of Python is not a prerequisite for this course, **provided you are comfortable learning on your own as needed**. While we have strived to make the programming component of this course straightforward, we will not devote much time to teaching prorgramming or Python syntax. Basically, you should feel comfortable with:\n", 
            "\n", 
            "* How to look up Python syntax on Google and StackOverflow.\n", 
            "* Basic programming concepts like functions, loops, arrays, dictionaries, strings, and if statements.\n", 
            "* How to learn new libraries by reading documentation.\n", 
            "* Asking questions on StackOverflow or Piazza.\n", 
            "\n", 
            "There are many online tutorials to introduce you to scientific python programming. [Here is one](https://github.com/jrjohansson/scientific-python-lectures) that is very nice. Lectures 1-4 are most relevant to this class.\n", 
            "\n", 
            "## Getting Python\n", 
            "\n", 
            "You will be using Python throughout the course, including many popular 3rd party Python libraries for scientific computing. [Anaconda](http://continuum.io/downloads) is an easy-to-install bundle of Python and most of these libraries. We recommend that you use Anaconda for this course.\n", 
            "\n", 
            "Please visit [this page](https://github.com/cs109/content/wiki/Installing-Python) and follow the instructions to set up Python\n", 
            "\n", 
            "<hline>\n", 
            "\n", 
            "## Hello, Python\n", 
            "\n", 
            "The IPython notebook is an application to build interactive computational notebooks. You'll be using them to complete labs and homework. Once you've set up Python, please <a href=https://raw.github.com/cs109/content/master/HW0.ipynb download=\"HW0.ipynb\">download this page</a>, and open it with IPython by typing\n", 
            "\n", 
            "```\n", 
            "ipython notebook <name_of_downloaded_file>\n", 
            "```\n", 
            "\n", 
            "For the rest of the assignment, use your local copy of this page, running on IPython.\n", 
            "\n", 
            "Notebooks are composed of many \"cells\", which can contain text (like this one), or code (like the one below). Double click on the cell below, and evaluate it by clicking the \"play\" button above, for by hitting shift + enter"
          ], 
          "cell_type": "markdown", 
          "metadata": {}
        }, 
        {
          "cell_type": "code", 
          "language": "python", 
          "outputs": [], 
          "collapsed": false, 
          "prompt_number": 1, 
          "input": [
            "x = [10, 20, 30, 40, 50]\n", 
            "for item in x:\n", 
            "    print \"Item is \", item"
          ], 
          "metadata": {}
        }, 
        {
          "source": [
            "## Python Libraries\n", 
            "\n", 
            "We will be using a several different libraries throughout this course. If you've successfully completed the [installation instructions](https://github.com/cs109/content/wiki/Installing-Python), all of the following statements should run."
          ], 
          "cell_type": "markdown", 
          "metadata": {}
        }, 
        {
          "cell_type": "code", 
          "language": "python", 
          "outputs": [], 
          "collapsed": false, 
          "prompt_number": 2, 
          "input": [
            "#IPython is what you are using now to run the notebook\n", 
            "import IPython\n", 
            "print \"IPython version:      %6.6s (need at least 1.0)\" % IPython.__version__\n", 
            "\n", 
            "# Numpy is a library for working with Arrays\n", 
            "import numpy as np\n", 
            "print \"Numpy version:        %6.6s (need at least 1.7.1)\" % np.__version__\n", 
            "\n", 
            "# SciPy implements many different numerical algorithms\n", 
            "import scipy as sp\n", 
            "print \"SciPy version:        %6.6s (need at least 0.12.0)\" % sp.__version__\n", 
            "\n", 
            "# Pandas makes working with data tables easier\n", 
            "import pandas as pd\n", 
            "print \"Pandas version:       %6.6s (need at least 0.11.0)\" % pd.__version__\n", 
            "\n", 
            "# Module for plotting\n", 
            "import matplotlib\n", 
            "print \"Mapltolib version:    %6.6s (need at least 1.2.1)\" % matplotlib.__version__\n", 
            "\n", 
            "# SciKit Learn implements several Machine Learning algorithms\n", 
            "import sklearn\n", 
            "print \"Scikit-Learn version: %6.6s (need at least 0.13.1)\" % sklearn.__version__\n", 
            "\n", 
            "# Requests is a library for getting data from the Web\n", 
            "import requests\n", 
            "print \"requests version:     %6.6s (need at least 1.2.3)\" % requests.__version__\n", 
            "\n", 
            "# Networkx is a library for working with networks\n", 
            "import networkx as nx\n", 
            "print \"NetworkX version:     %6.6s (need at least 1.7)\" % nx.__version__\n", 
            "\n", 
            "#BeautifulSoup is a library to parse HTML and XML documents\n", 
            "import BeautifulSoup\n", 
            "print \"BeautifulSoup version:%6.6s (need at least 3.2)\" % BeautifulSoup.__version__\n", 
            "\n", 
            "#MrJob is a library to run map reduce jobs on Amazon's computers\n", 
            "import mrjob\n", 
            "print \"Mr Job version:       %6.6s (need at least 0.4)\" % mrjob.__version__\n", 
            "\n", 
            "#Pattern has lots of tools for working with data from the internet\n", 
            "import pattern\n", 
            "print \"Pattern version:      %6.6s (need at least 2.6)\" % pattern.__version__"
          ], 
          "metadata": {}
        }, 
        {
          "source": [
            "If any of these libraries are missing or out of date, you will need to [install them](https://github.com/cs109/content/wiki/Installing-Python#installing-additional-libraries) and restart IPython"
          ], 
          "cell_type": "markdown", 
          "metadata": {}
        }, 
        {
          "source": [
            "## Hello matplotlib"
          ], 
          "cell_type": "markdown", 
          "metadata": {}
        }, 
        {
          "source": [
            "The notebook integrates nicely with Matplotlib, the primary plotting package for python. This should embed a figure of a sine wave:"
          ], 
          "cell_type": "markdown", 
          "metadata": {}
        }, 
        {
          "cell_type": "code", 
          "language": "python", 
          "outputs": [], 
          "collapsed": false, 
          "prompt_number": 3, 
          "input": [
            "#this line prepares IPython for working with matplotlib\n", 
            "%matplotlib inline  \n", 
            "\n", 
            "# this actually imports matplotlib\n", 
            "import matplotlib.pyplot as plt  \n", 
            "\n", 
            "x = np.linspace(0, 10, 30)  #array of 30 points from 0 to 10\n", 
            "y = np.sin(x)\n", 
            "z = y + np.random.normal(size=30) * .2\n", 
            "plt.plot(x, y, 'ro-', label='A sine wave')\n", 
            "plt.plot(x, z, 'b-', label='Noisy sine')\n", 
            "plt.legend(loc = 'lower right')\n", 
            "plt.xlabel(\"X axis\")\n", 
            "plt.ylabel(\"Y axis\")           "
          ], 
          "metadata": {}
        }, 
        {
          "source": [
            "If that last cell complained about the `%matplotlib` line, you need to update IPython to v1.0, and restart the notebook. See the [installation page](https://github.com/cs109/content/wiki/Installing-Python)"
          ], 
          "cell_type": "markdown", 
          "metadata": {}
        }, 
        {
          "source": [
            "## Hello Numpy\n", 
            "\n", 
            "The Numpy array processing library is the basis of nearly all numerical computing in Python. Here's a 30 second crash course. For more details, consult Chapter 4 of Python for Data Analysis, or the [Numpy User's Guide](http://docs.scipy.org/doc/numpy-dev/user/index.html)"
          ], 
          "cell_type": "markdown", 
          "metadata": {}
        }, 
        {
          "cell_type": "code", 
          "language": "python", 
          "outputs": [], 
          "collapsed": false, 
          "prompt_number": 4, 
          "input": [
            "print \"Make a 3 row x 4 column array of random numbers\"\n", 
            "x = np.random.random((3, 4))\n", 
            "print x\n", 
            "print\n", 
            "\n", 
            "print \"Add 1 to every element\"\n", 
            "x = x + 1\n", 
            "print x\n", 
            "print\n", 
            "\n", 
            "print \"Get the element at row 1, column 2\"\n", 
            "print x[1, 2]\n", 
            "print\n", 
            "\n", 
            "# The colon syntax is called \"slicing\" the array. \n", 
            "print \"Get the first row\"\n", 
            "print x[0, :]\n", 
            "print\n", 
            "\n", 
            "print \"Get every 2nd column of the first row\"\n", 
            "print x[0, ::2]\n", 
            "print"
          ], 
          "metadata": {}
        }, 
        {
          "source": [
            "Print the maximum, minimum, and mean of the array. This does **not** require writing a loop. In the code cell below, type `x.m<TAB>`, to find built-in operations for common array statistics like this"
          ], 
          "cell_type": "markdown", 
          "metadata": {}
        }, 
        {
          "cell_type": "code", 
          "language": "python", 
          "outputs": [], 
          "collapsed": false, 
          "prompt_number": 5, 
          "input": [
            "#your code here\n"
          ], 
          "metadata": {}
        }, 
        {
          "source": [
            "Call the `x.max` function again, but use the `axis` keyword to print the maximum of each row in x."
          ], 
          "cell_type": "markdown", 
          "metadata": {}
        }, 
        {
          "cell_type": "code", 
          "language": "python", 
          "outputs": [], 
          "collapsed": false, 
          "prompt_number": 6, 
          "input": [
            "#your code here\n"
          ], 
          "metadata": {}
        }, 
        {
          "source": [
            "Here's a way to quickly simulate 500 coin \"fair\" coin tosses (where the probabily of getting Heads is 50%, or 0.5)"
          ], 
          "cell_type": "markdown", 
          "metadata": {}
        }, 
        {
          "cell_type": "code", 
          "language": "python", 
          "outputs": [], 
          "collapsed": false, 
          "prompt_number": 7, 
          "input": [
            "x = np.random.binomial(500, .5)\n", 
            "print \"number of heads:\", x"
          ], 
          "metadata": {}
        }, 
        {
          "source": [
            "Repeat this simulation 500 times, and use the [plt.hist() function](http://matplotlib.org/api/pyplot_api.html#matplotlib.pyplot.hist) to plot a histogram of the number of Heads (1s) in each simulation"
          ], 
          "cell_type": "markdown", 
          "metadata": {}
        }, 
        {
          "cell_type": "code", 
          "language": "python", 
          "outputs": [], 
          "collapsed": false, 
          "prompt_number": 8, 
          "input": [
            "#your code here\n"
          ], 
          "metadata": {}
        }, 
        {
          "source": [
            "## The Monty Hall Problem\n", 
            "\n", 
            "\n", 
            "Here's a fun and perhaps surprising statistical riddle, and a good way to get some practice writing python functions\n", 
            "\n", 
            "In a gameshow, contestants try to guess which of 3 closed doors contain a cash prize (goats are behind the other two doors). Of course, the odds of choosing the correct door are 1 in 3. As a twist, the host of the show occasionally opens a door after a contestant makes his or her choice. This door is always one of the two the contestant did not pick, and is also always one of the goat doors (note that it is always possible to do this, since there are two goat doors). At this point, the contestant has the option of keeping his or her original choice, or swtiching to the other unopened door. The question is: is there any benefit to switching doors? The answer surprises many people who haven't heard the question before.\n", 
            "\n", 
            "We can answer the problem by running simulations in Python. We'll do it in several parts.\n", 
            "\n", 
            "First, write a function called `simulate_prizedoor`. This function will simulate the location of the prize in many games -- see the detailed specification below:"
          ], 
          "cell_type": "markdown", 
          "metadata": {}
        }, 
        {
          "cell_type": "code", 
          "language": "python", 
          "outputs": [], 
          "collapsed": false, 
          "prompt_number": 9, 
          "input": [
            "\"\"\"\n", 
            "Function\n", 
            "--------\n", 
            "simulate_prizedoor\n", 
            "\n", 
            "Generate a random array of 0s, 1s, and 2s, representing\n", 
            "hiding a prize between door 0, door 1, and door 2\n", 
            "\n", 
            "Parameters\n", 
            "----------\n", 
            "nsim : int\n", 
            "    The number of simulations to run\n", 
            "\n", 
            "Returns\n", 
            "-------\n", 
            "sims : array\n", 
            "    Random array of 0s, 1s, and 2s\n", 
            "\n", 
            "Example\n", 
            "-------\n", 
            ">>> print simulate_prizedoor(3)\n", 
            "array([0, 0, 2])\n", 
            "\"\"\"\n", 
            "def simulate_prizedoor(nsim):\n", 
            "    #compute here\n", 
            "    return answer\n", 
            "#your code here\n"
          ], 
          "metadata": {}
        }, 
        {
          "source": [
            "Next, write a function that simulates the contestant's guesses for `nsim` simulations. Call this function `simulate_guess`. The specs:"
          ], 
          "cell_type": "markdown", 
          "metadata": {}
        }, 
        {
          "cell_type": "code", 
          "language": "python", 
          "outputs": [], 
          "collapsed": false, 
          "prompt_number": 10, 
          "input": [
            "\"\"\"\n", 
            "Function\n", 
            "--------\n", 
            "simulate_guess\n", 
            "\n", 
            "Return any strategy for guessing which door a prize is behind. This\n", 
            "could be a random strategy, one that always guesses 2, whatever.\n", 
            "\n", 
            "Parameters\n", 
            "----------\n", 
            "nsim : int\n", 
            "    The number of simulations to generate guesses for\n", 
            "\n", 
            "Returns\n", 
            "-------\n", 
            "guesses : array\n", 
            "    An array of guesses. Each guess is a 0, 1, or 2\n", 
            "\n", 
            "Example\n", 
            "-------\n", 
            ">>> print simulate_guess(5)\n", 
            "array([0, 0, 0, 0, 0])\n", 
            "\"\"\"\n", 
            "#your code here\n"
          ], 
          "metadata": {}
        }, 
        {
          "source": [
            "Next, write a function, `goat_door`, to simulate randomly revealing one of the goat doors that a contestant didn't pick."
          ], 
          "cell_type": "markdown", 
          "metadata": {}
        }, 
        {
          "cell_type": "code", 
          "language": "python", 
          "outputs": [], 
          "collapsed": false, 
          "prompt_number": 11, 
          "input": [
            "\"\"\"\n", 
            "Function\n", 
            "--------\n", 
            "goat_door\n", 
            "\n", 
            "Simulate the opening of a \"goat door\" that doesn't contain the prize,\n", 
            "and is different from the contestants guess\n", 
            "\n", 
            "Parameters\n", 
            "----------\n", 
            "prizedoors : array\n", 
            "    The door that the prize is behind in each simulation\n", 
            "guesses : array\n", 
            "    THe door that the contestant guessed in each simulation\n", 
            "\n", 
            "Returns\n", 
            "-------\n", 
            "goats : array\n", 
            "    The goat door that is opened for each simulation. Each item is 0, 1, or 2, and is different\n", 
            "    from both prizedoors and guesses\n", 
            "\n", 
            "Examples\n", 
            "--------\n", 
            ">>> print goat_door(np.array([0, 1, 2]), np.array([1, 1, 1]))\n", 
            ">>> array([2, 2, 0])\n", 
            "\"\"\"\n", 
            "#your code here\n"
          ], 
          "metadata": {}
        }, 
        {
          "source": [
            "Write a function, `switch_guess`, that represents the strategy of always switching a guess after the goat door is opened."
          ], 
          "cell_type": "markdown", 
          "metadata": {}
        }, 
        {
          "cell_type": "code", 
          "language": "python", 
          "outputs": [], 
          "collapsed": false, 
          "prompt_number": 12, 
          "input": [
            "\"\"\"\n", 
            "Function\n", 
            "--------\n", 
            "switch_guess\n", 
            "\n", 
            "The strategy that always switches a guess after the goat door is opened\n", 
            "\n", 
            "Parameters\n", 
            "----------\n", 
            "guesses : array\n", 
            "     Array of original guesses, for each simulation\n", 
            "goatdoors : array\n", 
            "     Array of revealed goat doors for each simulation\n", 
            "\n", 
            "Returns\n", 
            "-------\n", 
            "The new door after switching. Should be different from both guesses and goatdoors\n", 
            "\n", 
            "Examples\n", 
            "--------\n", 
            ">>> print switch_guess(np.array([0, 1, 2]), np.array([1, 2, 1]))\n", 
            ">>> array([2, 0, 0])\n", 
            "\"\"\"\n", 
            "#your code here\n"
          ], 
          "metadata": {}
        }, 
        {
          "source": [
            "Last function: write a `win_percentage` function that takes an array of `guesses` and `prizedoors`, and returns the percent of correct guesses"
          ], 
          "cell_type": "markdown", 
          "metadata": {}
        }, 
        {
          "cell_type": "code", 
          "language": "python", 
          "outputs": [], 
          "collapsed": false, 
          "prompt_number": 13, 
          "input": [
            "\"\"\"\n", 
            "Function\n", 
            "--------\n", 
            "win_percentage\n", 
            "\n", 
            "Calculate the percent of times that a simulation of guesses is correct\n", 
            "\n", 
            "Parameters\n", 
            "-----------\n", 
            "guesses : array\n", 
            "    Guesses for each simulation\n", 
            "prizedoors : array\n", 
            "    Location of prize for each simulation\n", 
            "\n", 
            "Returns\n", 
            "--------\n", 
            "percentage : number between 0 and 100\n", 
            "    The win percentage\n", 
            "\n", 
            "Examples\n", 
            "---------\n", 
            ">>> print win_percentage(np.array([0, 1, 2]), np.array([0, 0, 0]))\n", 
            "33.333\n", 
            "\"\"\"\n", 
            "#your code here\n"
          ], 
          "metadata": {}
        }, 
        {
          "source": [
            "Now, put it together. Simulate 10000 games where contestant keeps his original guess, and 10000 games where the contestant switches his door after a  goat door is revealed. Compute the percentage of time the contestant wins under either strategy. Is one strategy better than the other?"
          ], 
          "cell_type": "markdown", 
          "metadata": {}
        }, 
        {
          "cell_type": "code", 
          "language": "python", 
          "outputs": [], 
          "collapsed": false, 
          "prompt_number": 14, 
          "input": [
            "#your code here\n"
          ], 
          "metadata": {}
        }, 
        {
          "source": [
            "Many people find this answer counter-intuitive (famously, PhD mathematicians have incorrectly claimed the result must be wrong. Clearly, none of them knew Python). \n", 
            "\n", 
            "One of the best ways to build intuition about why opening a Goat door affects the odds is to re-run the experiment with 100 doors and one prize. If the game show host opens 98 goat doors after you make your initial selection, would you want to keep your first pick or switch? Can you generalize your simulation code to handle the case of `n` doors?"
          ], 
          "cell_type": "markdown", 
          "metadata": {}
        }
      ], 
      "metadata": {}
    }
  ]
}
>>>>>>> caffc21c8f7c758c1884852ed023d29dccea063f
